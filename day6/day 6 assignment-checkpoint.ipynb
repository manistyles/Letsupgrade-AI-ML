{
 "cells": [
  {
   "cell_type": "markdown",
   "metadata": {},
   "source": [
    " ___1.Assuming that we have some email addresses in the \"username@companyname.com\" format, please write program___\\\n",
    " ___to print the company name of a given email address. Both user names and company names are composed of letters___\\\n",
    " ___only.___\\\n",
    " ___Input Format:___\\\n",
    " ___The first line of the input contains an email address.___\\\n",
    " ___Output Format:___\\\n",
    " ___Print the company name in single line.___\\\n",
    " ___Example;___\\\n",
    " ___Input:___\\\n",
    " john@google.com\\\n",
    " ___Output:___\\\n",
    " ___google___"
   ]
  },
  {
   "cell_type": "code",
   "execution_count": 10,
   "metadata": {},
   "outputs": [
    {
     "name": "stdout",
     "output_type": "stream",
     "text": [
      "username@companyname.com\n",
      "companyname\n"
     ]
    }
   ],
   "source": [
    "s = input()\n",
    "l = []\n",
    "k = s.find('@')\n",
    "m = s.find('.') \n",
    "for i in range(k + 1,m):\n",
    "    l.append(s[i])\n",
    "print(\"\".join(l))"
   ]
  },
  {
   "cell_type": "markdown",
   "metadata": {},
   "source": [
    "2.___Write a program that accepts a comma-separated sequence of words as input and prints the words in a comma___\\\n",
    "___separated sequence after sorting them alphabetically.___\\\n",
    "___Input Format:___\\\n",
    "___The first line of input contains words separated by the comma.___\\\n",
    "___Output Format:___\\\n",
    "___Print the sorted words separated by the comma.___\\\n",
    "___Example:___\\\n",
    "___Input:___\\\n",
    "___without,hello,bag,world___\\\n",
    "___Output:___\\\n",
    "___bag,hello,without,world___\\"
   ]
  },
  {
   "cell_type": "code",
   "execution_count": 15,
   "metadata": {},
   "outputs": [
    {
     "name": "stdout",
     "output_type": "stream",
     "text": [
      "without,hello,bag,world\n",
      "bag,hello,without,world\n"
     ]
    }
   ],
   "source": [
    "words = input().split(',')\n",
    "l=sorted(words)\n",
    "print(','.join(l))"
   ]
  },
  {
   "cell_type": "markdown",
   "metadata": {},
   "source": [
    "___3.Create your own Jupyter Notebook for Sets___"
   ]
  },
  {
   "cell_type": "code",
   "execution_count": 40,
   "metadata": {},
   "outputs": [
    {
     "name": "stdout",
     "output_type": "stream",
     "text": [
      "6\n",
      "{'Thor', 'Spiderman', 'Blackwidow', 'Captain America', 'Hawkeye', 'Hulk'}\n",
      "{1, 2, 3, 4, 5, 7, 8, 9, 10, 11}\n"
     ]
    }
   ],
   "source": [
    "Avengers = {'Ironman','Captain America','Thor'} #Creating set\n",
    "Avengers.add('Blackwidow') # Adding an element to the set\n",
    "Avengers.update(['Spiderman','Hulk','Hawkeye']) #Adding multiple elements to the set\n",
    "Avengers.remove('Ironman')#Removing an element\n",
    "print(len(Avengers)) #Returns length of the set\n",
    "print(Avengers)\n",
    "numbers = {1,2,3,4,5}\n",
    "numbers2 = {7,8,9,10,11}\n",
    "print(numbers.union(numbers2)) #join two sets\n",
    "\n",
    "\n",
    "\n"
   ]
  },
  {
   "cell_type": "markdown",
   "metadata": {},
   "source": [
    "___4.Given a list of n-1 numbers ranging from 1 to n, your task is to find the missing number. There are no duplicates.___\\\n",
    "___Input Format:___\\\n",
    "___The first line contains n-1 numbers with each number separated by a space.___\\\n",
    "___Output Format:___\\\n",
    "___Print the missing number___\\\n",
    "___Example:___\\\n",
    "___Input:1 2 4 6 3 7 8___\\\n",
    "___Output:5___\\\n",
    "___Explanation:___\\\n",
    "___In the above list of numbers 5 is missing and hence 5 is the input___"
   ]
  },
  {
   "cell_type": "code",
   "execution_count": 26,
   "metadata": {},
   "outputs": [
    {
     "name": "stdout",
     "output_type": "stream",
     "text": [
      "1 2 4 6 3 7 8\n",
      "5\n"
     ]
    }
   ],
   "source": [
    "def find_missing(mm):\n",
    "    for m in range(mm[0],mm[-1]):\n",
    "        if m not in mm:\n",
    "            return m\n",
    "    \n",
    "nums = input().split(' ')\n",
    "lst =[]\n",
    "for num in nums:\n",
    "    lst.append(int(num))\n",
    "p = find_missing(sorted(lst))\n",
    "print(p)\n",
    "\n"
   ]
  },
  {
   "cell_type": "markdown",
   "metadata": {},
   "source": [
    "___5.With a given list L, write a program to print this list L after removing all duplicate values with original order\n",
    "reserved.___\\\n",
    "___Example:___\\\n",
    "___If the input list is___\\\n",
    "___12 24 35 24 88 120 155 88 120 155___\\\n",
    "___Then the output should be___\\\n",
    "___12 24 35 88 120 155___\\\n",
    "___Explanation:___\\\n",
    "___Third, seventh and ninth element of the list L has been removed because it was already present.___\\\n",
    "___Input Format:___\\\n",
    "___In one line take the elements of the list L with each element separated by a space.___\\\n",
    "___Output Format:___\\\n",
    "___Print the elements of the modified list in one line with each element separated by a space.___\\\n",
    "___Example:___\\\n",
    "___Input: 12 24 35 24___\\\n",
    "___Output: ___\\\n",
    "___12 24 35___\n"
   ]
  },
  {
   "cell_type": "code",
   "execution_count": 31,
   "metadata": {},
   "outputs": [
    {
     "name": "stdout",
     "output_type": "stream",
     "text": [
      "12 24 35 24 88 120 155 88 120 155\n",
      "12 24 35 88 120 155 "
     ]
    }
   ],
   "source": [
    "def remove_duplicate(l1):\n",
    "    l2 = []\n",
    "    for k in l1:\n",
    "        if k not in l2:\n",
    "            l2.append(k)\n",
    "    for m in l2:\n",
    "        print(m,end = ' ')\n",
    "inp = input().split(' ')\n",
    "l1 = []\n",
    "for i in inp:\n",
    "    l1.append(int(i))\n",
    "remove_duplicate(l1)\n",
    "    "
   ]
  },
  {
   "cell_type": "code",
   "execution_count": null,
   "metadata": {},
   "outputs": [],
   "source": []
  }
 ],
 "metadata": {
  "kernelspec": {
   "display_name": "Python 3",
   "language": "python",
   "name": "python3"
  },
  "language_info": {
   "codemirror_mode": {
    "name": "ipython",
    "version": 3
   },
   "file_extension": ".py",
   "mimetype": "text/x-python",
   "name": "python",
   "nbconvert_exporter": "python",
   "pygments_lexer": "ipython3",
   "version": "3.7.6"
  },
  "toc": {
   "base_numbering": 1,
   "nav_menu": {},
   "number_sections": true,
   "sideBar": true,
   "skip_h1_title": false,
   "title_cell": "Table of Contents",
   "title_sidebar": "Contents",
   "toc_cell": false,
   "toc_position": {},
   "toc_section_display": true,
   "toc_window_display": false
  }
 },
 "nbformat": 4,
 "nbformat_minor": 4
}
