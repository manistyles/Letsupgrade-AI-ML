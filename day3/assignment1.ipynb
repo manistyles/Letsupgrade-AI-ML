{
 "cells": [
  {
   "cell_type": "markdown",
   "metadata": {},
   "source": [
    "___1.Write a program to subtract two complex numbers in Python___"
   ]
  },
  {
   "cell_type": "code",
   "execution_count": 1,
   "metadata": {},
   "outputs": [
    {
     "name": "stdout",
     "output_type": "stream",
     "text": [
      "(-3+3j)\n"
     ]
    }
   ],
   "source": [
    "a = 5 + 9j\n",
    "b = 8 + 6j\n",
    "print(a - b)"
   ]
  },
  {
   "cell_type": "markdown",
   "metadata": {},
   "source": [
    "___2.Write a program to find the fourth root of a number.___"
   ]
  },
  {
   "cell_type": "code",
   "execution_count": 2,
   "metadata": {},
   "outputs": [
    {
     "name": "stdout",
     "output_type": "stream",
     "text": [
      "4.0\n"
     ]
    }
   ],
   "source": [
    "num = 256\n",
    "print(pow(num,1/4))"
   ]
  },
  {
   "cell_type": "markdown",
   "metadata": {},
   "source": [
    "___3.Write a program to swap two numbers in Python with the help of a temporary variable.___"
   ]
  },
  {
   "cell_type": "code",
   "execution_count": 4,
   "metadata": {},
   "outputs": [
    {
     "name": "stdout",
     "output_type": "stream",
     "text": [
      "a =  10 b =  15\n",
      "a =  15 b =  10\n"
     ]
    }
   ],
   "source": [
    "a = 10\n",
    "b = 15\n",
    "print(\"a = \",a,'b = ',b) # before swap\n",
    "temp = a\n",
    "a = b\n",
    "b = temp\n",
    "print(\"a = \",a,'b = ',b) #After swap"
   ]
  },
  {
   "cell_type": "markdown",
   "metadata": {},
   "source": [
    "___4.Write a program to swap two numbers in Python without using a temporary variable.___\n"
   ]
  },
  {
   "cell_type": "code",
   "execution_count": 6,
   "metadata": {},
   "outputs": [
    {
     "name": "stdout",
     "output_type": "stream",
     "text": [
      "a =  35 b =  54\n",
      "a =  54 b =  35\n"
     ]
    }
   ],
   "source": [
    "a = 35\n",
    "b = 54\n",
    "print(\"a = \",a,'b = ',b)\n",
    "a,b = b,a\n",
    "print(\"a = \",a,'b = ',b)"
   ]
  },
  {
   "cell_type": "markdown",
   "metadata": {},
   "source": [
    "___5.Write a program to convert fahrenheit to kelvin and celsius both.___"
   ]
  },
  {
   "cell_type": "code",
   "execution_count": 11,
   "metadata": {},
   "outputs": [
    {
     "name": "stdout",
     "output_type": "stream",
     "text": [
      "farenheit in celcius:  36.888888888888886\n",
      "farenheit in kelvin:  310.0388888888889\n"
     ]
    }
   ],
   "source": [
    "far = 98.4\n",
    "celsius = (far - 32)*5/9\n",
    "kelvin = celsius + 273.15\n",
    "print(\"farenheit in celcius: \",celsius)\n",
    "print(\"farenheit in kelvin: \",kelvin)"
   ]
  },
  {
   "cell_type": "markdown",
   "metadata": {},
   "source": [
    "___6.Write a program to demonstrate all the available data types in Python.___"
   ]
  },
  {
   "cell_type": "code",
   "execution_count": 12,
   "metadata": {},
   "outputs": [
    {
     "name": "stdout",
     "output_type": "stream",
     "text": [
      "<class 'int'>\n",
      "<class 'float'>\n",
      "<class 'str'>\n",
      "<class 'list'>\n",
      "<class 'tuple'>\n",
      "<class 'set'>\n",
      "<class 'dict'>\n",
      "<class 'complex'>\n",
      "<class 'bool'>\n"
     ]
    }
   ],
   "source": [
    "n = 5\n",
    "f = 15.7\n",
    "s = 'Hi this is manish'\n",
    "l = [1,2,3,4,5]\n",
    "t = (1,2,3,4,5)\n",
    "se = {1,2,3,4,5}\n",
    "dic = {'marvel':'Ironman','sony':'spiderman','DC comics':'justice league'}\n",
    "com = 5+6j\n",
    "boo = True\n",
    "print(type(n))\n",
    "print(type(f))\n",
    "print(type(s))\n",
    "print(type(l))\n",
    "print(type(t))\n",
    "print(type(se))\n",
    "print(type(dic))\n",
    "print(type(com))\n",
    "print(type(boo))"
   ]
  },
  {
   "cell_type": "markdown",
   "metadata": {},
   "source": [
    "# 7.creating github profile and upload github assignment links#"
   ]
  },
  {
   "cell_type": "markdown",
   "metadata": {},
   "source": [
    "___1.Go to github.com link.___\\\n",
    "___2.click on sign up and fill the details they asked.___\\\n",
    "___3.After sign in click on the create repository tab.___\\\n",
    "___4.Name you repository as Letsupgrade AI-ML.___\\\n",
    "___5.After that create day 3 folder in that folder upload the assignment___\\\n",
    "___6.Then go to my repositories open it and copy the url paste it in the letsupgrade assignment form.___\\\n",
    "___7.That much simple it is.___"
   ]
  },
  {
   "cell_type": "code",
   "execution_count": null,
   "metadata": {},
   "outputs": [],
   "source": []
  }
 ],
 "metadata": {
  "kernelspec": {
   "display_name": "Python 3",
   "language": "python",
   "name": "python3"
  },
  "language_info": {
   "codemirror_mode": {
    "name": "ipython",
    "version": 3
   },
   "file_extension": ".py",
   "mimetype": "text/x-python",
   "name": "python",
   "nbconvert_exporter": "python",
   "pygments_lexer": "ipython3",
   "version": "3.7.6"
  }
 },
 "nbformat": 4,
 "nbformat_minor": 4
}
