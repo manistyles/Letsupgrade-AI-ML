{
 "cells": [
  {
   "cell_type": "markdown",
   "metadata": {},
   "source": [
    "___1.Research on whether addition, subtraction, multiplication, division, floor division and modulo\n",
    "operations be performed on complex numbers. Based on your study, implement a Python\n",
    "program to demonstrate these operations.___\n"
   ]
  },
  {
   "cell_type": "code",
   "execution_count": 7,
   "metadata": {},
   "outputs": [
    {
     "name": "stdout",
     "output_type": "stream",
     "text": [
      "addition =  (14+14j)\n",
      "subtraction =  (-4-2j)\n",
      "multiplication =  (-3+94j)\n",
      "divison =  (0.6413793103448275+0.09655172413793102j)\n"
     ]
    }
   ],
   "source": [
    "c1 = complex(5,6)\n",
    "c2 = complex(9,8)\n",
    "add = c1 + c2\n",
    "sub = c1 - c2\n",
    "mul = c1 * c2\n",
    "div = c1 / c2\n",
    "#floor = c1 // c2 floor division is not possible for complex numbers\n",
    "#mod = c1 % c2  modulo operator didn't work on complex numbers\n",
    "print(\"addition = \",add)\n",
    "print(\"subtraction = \",sub)\n",
    "print(\"multiplication = \",mul)\n",
    "print(\"divison = \",div)\n"
   ]
  },
  {
   "cell_type": "markdown",
   "metadata": {},
   "source": [
    "___2.Research on range() functions and its parameters. Create a markdown cell and write in your own\n",
    "words (no copy-paste from google please) what you understand about it. Implement a small\n",
    "program of your choice on the same.___"
   ]
  },
  {
   "cell_type": "markdown",
   "metadata": {},
   "source": [
    "___1.syntax of range is\\\n",
    "    range(start,end)___\\\n",
    "___2.The default start value is 0 and goes on upto n-1.___\\\n",
    "___3.can be implemented with loops.___\\\n",
    "___4.Below examples shows the usage of range function.___"
   ]
  },
  {
   "cell_type": "code",
   "execution_count": 10,
   "metadata": {},
   "outputs": [
    {
     "name": "stdout",
     "output_type": "stream",
     "text": [
      "1\n",
      "2\n",
      "3\n",
      "4\n",
      "5\n",
      "6\n",
      "7\n",
      "8\n",
      "9\n",
      "10\n"
     ]
    }
   ],
   "source": [
    "for i in range(1,11):\n",
    "    print(i)"
   ]
  },
  {
   "cell_type": "markdown",
   "metadata": {},
   "source": [
    "___3.Consider two numbers. Perform their subtraction and if the result of subtraction is greater than\n",
    "25, print their multiplication result else print their division result.___"
   ]
  },
  {
   "cell_type": "code",
   "execution_count": 13,
   "metadata": {},
   "outputs": [
    {
     "name": "stdout",
     "output_type": "stream",
     "text": [
      "100\n",
      "50\n",
      "multiplication of two numbers =  5000\n"
     ]
    }
   ],
   "source": [
    "n1 = int(input())\n",
    "n2 = int(input())\n",
    "sub = n1 - n2\n",
    "if sub > 25:\n",
    "    print(\"multiplication of two numbers = \",n1 * n2)\n",
    "else:\n",
    "    print(\"divison of two numbers = \",n1/n2)"
   ]
  },
  {
   "cell_type": "markdown",
   "metadata": {},
   "source": [
    "___4.Consider a list of 10 elements of integer values. If the number in the list is divisible by 2, print the\n",
    "result as \"square of that number minus 2\".___\n"
   ]
  },
  {
   "cell_type": "code",
   "execution_count": 15,
   "metadata": {},
   "outputs": [
    {
     "name": "stdout",
     "output_type": "stream",
     "text": [
      "square of 2 -2 =  2\n",
      "square of 4 -2 =  14\n",
      "square of 6 -2 =  34\n",
      "square of 8 -2 =  62\n",
      "square of 10 -2 =  98\n"
     ]
    }
   ],
   "source": [
    "lst = [1,2,3,4,5,6,7,8,9,10]\n",
    "for i in lst:\n",
    "    if i % 2 == 0:\n",
    "        print(\"square of\",i,\"-2 = \",i**2-2)"
   ]
  },
  {
   "cell_type": "markdown",
   "metadata": {},
   "source": [
    "___5.Consider a list of 10 elements. Print all the elements in the list which are greater than 7 when that\n",
    "number is divided 2.___"
   ]
  },
  {
   "cell_type": "code",
   "execution_count": 16,
   "metadata": {},
   "outputs": [
    {
     "name": "stdout",
     "output_type": "stream",
     "text": [
      "66\n",
      "12\n",
      "16\n",
      "24\n",
      "48\n"
     ]
    }
   ],
   "source": [
    "l = [2,57,66,12,16,21,24,35,48,6]\n",
    "for i in l:\n",
    "    if i > 7 and i%2==0:\n",
    "        print(i)"
   ]
  },
  {
   "cell_type": "code",
   "execution_count": null,
   "metadata": {},
   "outputs": [],
   "source": []
  }
 ],
 "metadata": {
  "kernelspec": {
   "display_name": "Python 3",
   "language": "python",
   "name": "python3"
  },
  "language_info": {
   "codemirror_mode": {
    "name": "ipython",
    "version": 3
   },
   "file_extension": ".py",
   "mimetype": "text/x-python",
   "name": "python",
   "nbconvert_exporter": "python",
   "pygments_lexer": "ipython3",
   "version": "3.7.6"
  },
  "toc": {
   "base_numbering": 1,
   "nav_menu": {},
   "number_sections": true,
   "sideBar": true,
   "skip_h1_title": false,
   "title_cell": "Table of Contents",
   "title_sidebar": "Contents",
   "toc_cell": false,
   "toc_position": {},
   "toc_section_display": true,
   "toc_window_display": false
  }
 },
 "nbformat": 4,
 "nbformat_minor": 4
}
