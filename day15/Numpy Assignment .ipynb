{
 "cells": [
  {
   "cell_type": "markdown",
   "metadata": {},
   "source": [
    "# 1. Create a 3x3x3 array with random values "
   ]
  },
  {
   "cell_type": "code",
   "execution_count": 7,
   "metadata": {},
   "outputs": [
    {
     "name": "stdout",
     "output_type": "stream",
     "text": [
      "[[[0.20085942 0.70100546 0.27437233]\n",
      "  [0.80909406 0.41126504 0.70096485]\n",
      "  [0.5969674  0.82247256 0.48668304]]\n",
      "\n",
      " [[0.80031589 0.85497564 0.57388696]\n",
      "  [0.8929318  0.4746925  0.41610675]\n",
      "  [0.07539503 0.14535089 0.77725672]]\n",
      "\n",
      " [[0.39458978 0.87185578 0.69067123]\n",
      "  [0.36695668 0.84635141 0.82287251]\n",
      "  [0.50899808 0.27067913 0.01812914]]]\n"
     ]
    }
   ],
   "source": [
    "import numpy as np\n",
    "arr = np.empty((3,3,3))\n",
    "print(arr)"
   ]
  },
  {
   "cell_type": "markdown",
   "metadata": {},
   "source": [
    "# 2.Create a 5x5 matrix with values 1,2,3,4 just below the diagonal"
   ]
  },
  {
   "cell_type": "code",
   "execution_count": 23,
   "metadata": {},
   "outputs": [
    {
     "name": "stdout",
     "output_type": "stream",
     "text": [
      "[[0 0 0 0 0]\n",
      " [1 0 0 0 0]\n",
      " [0 2 0 0 0]\n",
      " [0 0 3 0 0]\n",
      " [0 0 0 4 0]]\n"
     ]
    }
   ],
   "source": [
    "arr2 = np.diag(1+np.arange(4),-1)\n",
    "print (arr2)"
   ]
  },
  {
   "cell_type": "markdown",
   "metadata": {},
   "source": [
    "# 3.Create a 8x8 matrix and fill it with a checkerboard pattern"
   ]
  },
  {
   "cell_type": "code",
   "execution_count": 30,
   "metadata": {},
   "outputs": [
    {
     "name": "stdout",
     "output_type": "stream",
     "text": [
      "[[0 1 0 1 0 1 0 1]\n",
      " [1 0 1 0 1 0 1 0]\n",
      " [0 1 0 1 0 1 0 1]\n",
      " [1 0 1 0 1 0 1 0]\n",
      " [0 1 0 1 0 1 0 1]\n",
      " [1 0 1 0 1 0 1 0]\n",
      " [0 1 0 1 0 1 0 1]\n",
      " [1 0 1 0 1 0 1 0]]\n"
     ]
    }
   ],
   "source": [
    "arr3 = np.zeros((8,8),dtype = int)\n",
    "arr3[1::2,::2] = 1\n",
    "arr3[::2,1::2] = 1\n",
    "print(arr3)"
   ]
  },
  {
   "cell_type": "markdown",
   "metadata": {},
   "source": [
    "# 4. Normalize a 5x5 random matrix"
   ]
  },
  {
   "cell_type": "code",
   "execution_count": 55,
   "metadata": {},
   "outputs": [
    {
     "name": "stdout",
     "output_type": "stream",
     "text": [
      "[[1.         0.68284945 0.65201052 0.84041042 0.7154251 ]\n",
      " [0.55831233 0.24588826 0.05375647 0.5151234  0.2050456 ]\n",
      " [0.74768159 0.55759844 0.32969902 0.78639172 0.39574548]\n",
      " [0.44836762 0.77574317 0.         0.00847592 0.391768  ]\n",
      " [0.29672469 0.73547692 0.51716954 0.28571075 0.41612101]]\n"
     ]
    }
   ],
   "source": [
    "arr5 = np.random.random((5,5))\n",
    "arr5max,arr5min = arr5.max(), arr5.min()\n",
    "arr5= (arr5-arr5min)/(arr5max-arr5min)\n",
    "print (arr5)"
   ]
  },
  {
   "cell_type": "markdown",
   "metadata": {},
   "source": [
    "# 5.  How to find common values between two arrays?"
   ]
  },
  {
   "cell_type": "code",
   "execution_count": 15,
   "metadata": {},
   "outputs": [
    {
     "name": "stdout",
     "output_type": "stream",
     "text": [
      "1\n",
      "4\n",
      "6\n",
      "7\n",
      "9\n"
     ]
    }
   ],
   "source": [
    "arr1 = np.array([[1,2,3],[4,5,6],[7,8,9]])\n",
    "arr2 = np.array([[1,23,93],[4,161,6],[7,57,9]])\n",
    "arr1 = arr1.flatten()\n",
    "arr2 = arr2.flatten()\n",
    "for ar in arr1:\n",
    "    if ar in arr2:\n",
    "        print(ar)\n"
   ]
  },
  {
   "cell_type": "markdown",
   "metadata": {},
   "source": [
    "# 6.How to get the dates of yesterday, today and tomorrow?"
   ]
  },
  {
   "cell_type": "code",
   "execution_count": 15,
   "metadata": {},
   "outputs": [
    {
     "name": "stdout",
     "output_type": "stream",
     "text": [
      "Yestraday:  2020-07-27\n",
      "Today:  2020-07-28\n",
      "Tomorrow:  2020-07-29\n"
     ]
    }
   ],
   "source": [
    "import numpy as np\n",
    "yesterday = np.datetime64('today', 'D') - np.timedelta64(1, 'D')\n",
    "print(\"Yestraday: \",yesterday)\n",
    "today     = np.datetime64('today', 'D')\n",
    "print(\"Today: \",today)\n",
    "tomorrow  = np.datetime64('today', 'D') + np.timedelta64(1, 'D')\n",
    "print(\"Tomorrow: \",tomorrow)"
   ]
  },
  {
   "cell_type": "markdown",
   "metadata": {},
   "source": [
    "# 7. Consider two random array A and B, check if they are equal"
   ]
  },
  {
   "cell_type": "code",
   "execution_count": 13,
   "metadata": {},
   "outputs": [
    {
     "name": "stdout",
     "output_type": "stream",
     "text": [
      "[[0.00000000e+000 0.00000000e+000 0.00000000e+000]\n",
      " [0.00000000e+000 0.00000000e+000 6.95644429e-321]\n",
      " [8.34438346e-308 7.23149004e-308 0.00000000e+000]]\n",
      "[[0.00000000e+000 0.00000000e+000 0.00000000e+000]\n",
      " [0.00000000e+000 0.00000000e+000 6.73905541e-321]\n",
      " [1.15706964e-306 2.33419537e-312 2.46151512e-312]]\n",
      "Not Equal\n"
     ]
    }
   ],
   "source": [
    "A = np.empty((3,3))\n",
    "B = np.empty((3,3))\n",
    "flag = 1\n",
    "print(A)\n",
    "print(B)\n",
    "if A.shape != B.shape:\n",
    "    print('Not equal')\n",
    "else:\n",
    "    A = A.flatten()\n",
    "    B = B.flatten()\n",
    "    for i in A:\n",
    "        if i not in B:\n",
    "            flag = 0\n",
    "            break\n",
    "if flag == 0:\n",
    "    print(\"Not Equal\")\n",
    "else:\n",
    "    print('Equal')\n"
   ]
  },
  {
   "cell_type": "markdown",
   "metadata": {},
   "source": [
    "# 8.Create random vector of size 10 and replace the maximum value by 0 "
   ]
  },
  {
   "cell_type": "code",
   "execution_count": 14,
   "metadata": {},
   "outputs": [
    {
     "name": "stdout",
     "output_type": "stream",
     "text": [
      "[-1.43495243 -1.19718463 -0.3816129  -0.35215634  1.04306382  1.1101154\n",
      "  1.18042321  1.40230785  1.40262243  2.48911278]\n",
      "\n",
      "maximum value is 2.4891127805887647\n",
      "\n",
      "replacing max value with zero\n",
      "\n",
      "[-1.43495243 -1.19718463 -0.3816129  -0.35215634  1.04306382  1.1101154\n",
      "  1.18042321  1.40230785  1.40262243  0.        ]\n"
     ]
    }
   ],
   "source": [
    "import numpy as np\n",
    "val = np.random.randn(10)\n",
    "maximum = val.max()\n",
    "val.sort()\n",
    "print(val)\n",
    "print()\n",
    "print(\"maximum value is\",maximum)\n",
    "print()\n",
    "val[9] = 0\n",
    "print(\"replacing max value with zero\")\n",
    "print()\n",
    "print(val)"
   ]
  },
  {
   "cell_type": "markdown",
   "metadata": {},
   "source": [
    "# 9. How to print all the values of an array?"
   ]
  },
  {
   "cell_type": "code",
   "execution_count": 38,
   "metadata": {},
   "outputs": [
    {
     "name": "stdout",
     "output_type": "stream",
     "text": [
      "1 6 9 \n",
      "3 5 6 \n",
      "0 9 7 \n"
     ]
    }
   ],
   "source": [
    "arr4 = np.array([[1,6,9],[3,5,6],[0,9,7]])\n",
    "for i in range(3):\n",
    "    for j in range(3):\n",
    "        print(arr4[i,j],end=' ')\n",
    "    print()\n"
   ]
  },
  {
   "cell_type": "markdown",
   "metadata": {},
   "source": [
    "# 10.Subtract the mean of each row of a matrix"
   ]
  },
  {
   "cell_type": "code",
   "execution_count": 71,
   "metadata": {},
   "outputs": [
    {
     "name": "stdout",
     "output_type": "stream",
     "text": [
      "6.0\n",
      "4.0\n",
      "1.0\n",
      "subtraction of mean of each row 1.0\n"
     ]
    }
   ],
   "source": [
    "from functools import reduce\n",
    "arr6 = np.array([[5,6,7],[3,4,5],[0,1,2]])\n",
    "sub = []\n",
    "for i in range(3):\n",
    "    sum = 0\n",
    "    for j in range(3):\n",
    "        sum += arr6[i,j]\n",
    "    avg=sum/3\n",
    "    sub.append(avg)\n",
    "    print(avg)\n",
    "k = reduce(lambda x,y : x -y,sub)\n",
    "print(\"subtraction of mean of each row\",k)\n",
    "\n",
    "\n"
   ]
  },
  {
   "cell_type": "markdown",
   "metadata": {},
   "source": [
    "# 11.Consider a given vector, how to add 1 to each element indexed by a second vector (be careful with repeated indices)? "
   ]
  },
  {
   "cell_type": "code",
   "execution_count": 21,
   "metadata": {},
   "outputs": [
    {
     "name": "stdout",
     "output_type": "stream",
     "text": [
      "[3. 1. 3. 1. 1. 4. 2. 1. 3. 1.]\n"
     ]
    }
   ],
   "source": [
    "Z = np.ones(10)\n",
    "I = np.random.randint(0,len(Z),10)\n",
    "Z += np.bincount(I, minlength=len(Z))\n",
    "print(Z)"
   ]
  },
  {
   "cell_type": "code",
   "execution_count": null,
   "metadata": {},
   "outputs": [],
   "source": []
  },
  {
   "cell_type": "markdown",
   "metadata": {},
   "source": [
    "# 12.How to get the diagonal of a dot product?"
   ]
  },
  {
   "cell_type": "code",
   "execution_count": 77,
   "metadata": {},
   "outputs": [
    {
     "name": "stdout",
     "output_type": "stream",
     "text": [
      "dot product of two arrays\n",
      "[[137 111  69]\n",
      " [121 139  57]\n",
      " [189 146 117]]\n",
      "diagonal values of dot product [137 139 117]\n"
     ]
    }
   ],
   "source": [
    "a = np.array([[5,6,2],[1,10,6],[8,6,9]])\n",
    "b = np.array([[15,7,9],[10,12,3],[1,2,3]])\n",
    "f = np.dot(a,b)\n",
    "print(\"dot product of two arrays\")\n",
    "print(f)\n",
    "print(\"diagonal values of dot product\",np.diag(f,k = 0))"
   ]
  },
  {
   "cell_type": "markdown",
   "metadata": {},
   "source": [
    "# 13.How to find the most frequent value in an array?"
   ]
  },
  {
   "cell_type": "code",
   "execution_count": 19,
   "metadata": {},
   "outputs": [
    {
     "name": "stdout",
     "output_type": "stream",
     "text": [
      "original array\n",
      "\n",
      "[2 9 6 5 1 8 5 0 8 9 5 6 3 9 9 5 9 3 8 6 8 3 5 6 9 0 0 0 1 8]\n",
      "\n",
      "most frequent number\n",
      "9\n"
     ]
    }
   ],
   "source": [
    "random = np.random.randint(0,10,30)\n",
    "print(\"original array\")\n",
    "print()\n",
    "print(random)\n",
    "print()\n",
    "print(\"most frequent number\")\n",
    "print(np.bincount(random).argmax())"
   ]
  },
  {
   "cell_type": "markdown",
   "metadata": {},
   "source": [
    "# 14.How to get the n largest values of an array"
   ]
  },
  {
   "cell_type": "code",
   "execution_count": 22,
   "metadata": {},
   "outputs": [
    {
     "name": "stdout",
     "output_type": "stream",
     "text": [
      "Original array:\n",
      "[0 1 2 3 4 5 6 7 8 9]\n",
      "[9]\n"
     ]
    }
   ],
   "source": [
    "import numpy as np\n",
    "x = np.arange(10)\n",
    "print(\"Original array:\")\n",
    "print(x)\n",
    "np.random.shuffle(x)\n",
    "n = 1\n",
    "print (x[np.argsort(x)[-n:]])"
   ]
  },
  {
   "cell_type": "markdown",
   "metadata": {},
   "source": [
    "# 15.How to create a record array from a regular array?"
   ]
  },
  {
   "cell_type": "code",
   "execution_count": 24,
   "metadata": {},
   "outputs": [
    {
     "name": "stdout",
     "output_type": "stream",
     "text": [
      "Original arrays:\n",
      "[['Manish' '88.5' '90']\n",
      " ['sirisha' '87' '99']\n",
      " ['sandeep' '85.5' '91']]\n",
      "\n",
      "Record array;\n",
      "[(b'Manish', 88.5, 90) (b'sirisha', 87. , 99) (b'sandeep', 85.5, 91)]\n"
     ]
    }
   ],
   "source": [
    "import numpy as np\n",
    "arra1 = np.array([(\"Manish\", 88.5, 90),\n",
    "                 (\"sirisha\", 87, 99),\n",
    "             (\"sandeep\", 85.5, 91)])\n",
    "print(\"Original arrays:\")\n",
    "print(arra1)\n",
    "print(\"\\nRecord array;\")\n",
    "result = np.core.records.fromarrays(arra1.T,\n",
    "                              names='col1, col2, col3',\n",
    "                              formats = 'S80, f8, i8')\n",
    "print(result)\n"
   ]
  },
  {
   "cell_type": "code",
   "execution_count": null,
   "metadata": {},
   "outputs": [],
   "source": []
  }
 ],
 "metadata": {
  "kernelspec": {
   "display_name": "Python 3",
   "language": "python",
   "name": "python3"
  },
  "language_info": {
   "codemirror_mode": {
    "name": "ipython",
    "version": 3
   },
   "file_extension": ".py",
   "mimetype": "text/x-python",
   "name": "python",
   "nbconvert_exporter": "python",
   "pygments_lexer": "ipython3",
   "version": "3.7.6"
  },
  "toc": {
   "base_numbering": 1,
   "nav_menu": {},
   "number_sections": true,
   "sideBar": true,
   "skip_h1_title": false,
   "title_cell": "Table of Contents",
   "title_sidebar": "Contents",
   "toc_cell": false,
   "toc_position": {},
   "toc_section_display": true,
   "toc_window_display": false
  }
 },
 "nbformat": 4,
 "nbformat_minor": 2
}
