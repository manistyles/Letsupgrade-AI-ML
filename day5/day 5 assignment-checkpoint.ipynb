{
 "cells": [
  {
   "cell_type": "markdown",
   "metadata": {},
   "source": [
    "___1.Write a Python program to find the first 20 non-even prime natural numbers.___\n"
   ]
  },
  {
   "cell_type": "code",
   "execution_count": null,
   "metadata": {},
   "outputs": [],
   "source": [
    "count = 0\n",
    "flag = 0\n",
    "for i in range(3,100):\n",
    "    flag = 1\n",
    "    for j in range(2,i//2 + 1):\n",
    "        if i % j==0:\n",
    "            flag = 0\n",
    "            break\n",
    "            \n",
    "    if flag == 1:\n",
    "        count = count + 1\n",
    "        print(i)\n",
    "    if count == 20:\n",
    "        break\n",
    "        "
   ]
  },
  {
   "cell_type": "markdown",
   "metadata": {},
   "source": [
    "___2.Write a Python program to implement 15 functions of string___"
   ]
  },
  {
   "cell_type": "code",
   "execution_count": 22,
   "metadata": {},
   "outputs": [
    {
     "name": "stdout",
     "output_type": "stream",
     "text": [
      "LETSUPGRADE AI-ML\n",
      "letsupgrade ai-ml\n",
      "------Letsupgrade AI-ML-------\n",
      "-------------Letsupgrade AI-ML\n",
      "Letsupgrade AI-ML-------------\n",
      "['Letsupgrade', 'AI-ML']\n",
      "Letsupgrade&AI-ML\n",
      "False\n",
      "False\n",
      "False\n",
      "b'Letsupgrade AI-ML'\n",
      "3\n",
      "1\n",
      "False\n",
      "True\n",
      "False\n"
     ]
    }
   ],
   "source": [
    "name = \"Letsupgrade AI-ML\"\n",
    "print(name.upper())\n",
    "print(name.lower())\n",
    "print(name.center(30,'-'))\n",
    "print(name.rjust(30,'-'))\n",
    "print(name.ljust(30,'-'))\n",
    "print(name.split())\n",
    "print('&'.join(name.split()))\n",
    "print(name.islower())\n",
    "print(name.isalnum())\n",
    "print(name.isupper())\n",
    "print(name.encode())\n",
    "print(name.find('s'))\n",
    "print(name.count('a'))\n",
    "print(name.istitle())\n",
    "print(name.isascii())\n",
    "print(name.isdigit())\n",
    "\n"
   ]
  },
  {
   "cell_type": "markdown",
   "metadata": {},
   "source": [
    "___3.Write a Python program to check if the given string is a Palindrome or Anagram or None of them.\n",
    "Display the message accordingly to the user.___\n"
   ]
  },
  {
   "cell_type": "code",
   "execution_count": 3,
   "metadata": {},
   "outputs": [
    {
     "name": "stdout",
     "output_type": "stream",
     "text": [
      "bored\n",
      "robed\n",
      "Anagram\n"
     ]
    }
   ],
   "source": [
    "s1 = input()\n",
    "s2 = input()\n",
    "if s1[:] == s1[::-1]:\n",
    "    print(\"Palindrome\")\n",
    "elif sorted(s1) == sorted(s2):\n",
    "    print(\"Anagram\")\n",
    "else:\n",
    "    print(\"None of the above\")"
   ]
  },
  {
   "cell_type": "markdown",
   "metadata": {},
   "source": [
    "___4.Write a Python's user defined function that removes all the additional characters from the string\n",
    "and converts it finally to lower case using built-in lower(). eg: If the string is \"Dr. Darshan Ingle\n",
    "@AI-ML Trainer\", then the output be \"drdarshaningleaimltrainer\".___"
   ]
  },
  {
   "cell_type": "code",
   "execution_count": 4,
   "metadata": {},
   "outputs": [
    {
     "name": "stdout",
     "output_type": "stream",
     "text": [
      "Dr. Darshan Ingle @AI-ML Trainer\n",
      "drdarshaningleaimltrainer\n"
     ]
    }
   ],
   "source": [
    "def removeadditionalchar(m):\n",
    "    l = []\n",
    "    for i in m:\n",
    "        if i.isalpha():\n",
    "            if i.isupper():\n",
    "                l.append(i.lower())\n",
    "            else:\n",
    "                l.append(i)\n",
    "    s = ''.join(l)\n",
    "    return s\n",
    "m = input()\n",
    "print(removeadditionalchar(m))\n",
    "\n"
   ]
  },
  {
   "cell_type": "code",
   "execution_count": null,
   "metadata": {},
   "outputs": [],
   "source": []
  }
 ],
 "metadata": {
  "kernelspec": {
   "display_name": "Python 3",
   "language": "python",
   "name": "python3"
  },
  "language_info": {
   "codemirror_mode": {
    "name": "ipython",
    "version": 3
   },
   "file_extension": ".py",
   "mimetype": "text/x-python",
   "name": "python",
   "nbconvert_exporter": "python",
   "pygments_lexer": "ipython3",
   "version": "3.7.6"
  },
  "toc": {
   "base_numbering": 1,
   "nav_menu": {},
   "number_sections": true,
   "sideBar": true,
   "skip_h1_title": false,
   "title_cell": "Table of Contents",
   "title_sidebar": "Contents",
   "toc_cell": false,
   "toc_position": {},
   "toc_section_display": true,
   "toc_window_display": false
  }
 },
 "nbformat": 4,
 "nbformat_minor": 4
}
